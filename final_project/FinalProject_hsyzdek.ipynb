{
 "cells": [
  {
   "cell_type": "markdown",
   "metadata": {},
   "source": [
    "# COGS 108 - Final Project "
   ]
  },
  {
   "cell_type": "markdown",
   "metadata": {},
   "source": [
    "# Overview"
   ]
  },
  {
   "cell_type": "markdown",
   "metadata": {},
   "source": [
    "My project attempted determine if parks in high-crime areas received lower Yelp ratings than parks in lower-crime areas, using the amount of police calls as a proxy for crime rate. For each park in the Yelp dataset, I counted the number of police calls within a half mile of the park. No significant relationship was found between the crime rate of a park's neighborhood and the average Yelp rating for either local parks or parks in general."
   ]
  },
  {
   "cell_type": "markdown",
   "metadata": {},
   "source": [
    "# Name & GitHub\n",
    "\n",
    "- Name: Hayden Syzdek\n",
    "- GitHub Username: hsyzdek"
   ]
  },
  {
   "cell_type": "markdown",
   "metadata": {},
   "source": [
    "# Research Question"
   ]
  },
  {
   "cell_type": "markdown",
   "metadata": {},
   "source": [
    "Does the crime rate of a park's neighborhood negatively influence it's Yelp rating? I am interested in this correlation for both local parks and parks in general."
   ]
  },
  {
   "cell_type": "markdown",
   "metadata": {},
   "source": [
    "## Background and Prior Work"
   ]
  },
  {
   "cell_type": "markdown",
   "metadata": {},
   "source": [
    "Yelp is a website where users can rate places they have visited and view others' ratings<sup>1</sup>.\n",
    "\n",
    "The City of San Diego, the state and federal government, and private entities own and operate many parks throughout the city. Studies have shown that access to parks has a variety of physical, emotional, and enviromental perks<sup>2</sup>. The San Diego Parks and Recreation Department periodically seeks resident feedback to inform their direction<sup>3</sup>. If people have bias against parks in areas with high crime, the data collected from surveys could cause resources to be diverted away from those parks, hurting those who live in high-crime communities.\n",
    "\n",
    "References (include links):\n",
    "- 1) About Yelp retrieved from https://www.yelp.com/about\n",
    "- 2) The Health Benefits of Parks retrieved from http://usahomepagewww.eastshorepark.org/HealthBenefitsReport_FINAL_010307.pdf\n",
    "- 3) Complete Our Needs Assessment Survey\n",
    " https://www.sdparks.org/content/sdparks/en/news-events/news-stories/2020NeedsAssessmentSurvey.html.html"
   ]
  },
  {
   "cell_type": "markdown",
   "metadata": {},
   "source": [
    "# Hypothesis\n"
   ]
  },
  {
   "cell_type": "markdown",
   "metadata": {},
   "source": [
    "I hypothesize that as a park's neighborhood recieves more police calls, the rating of the park will decrease, and this effect will be especially strong in local parks."
   ]
  },
  {
   "cell_type": "markdown",
   "metadata": {},
   "source": [
    "# Dataset(s)"
   ]
  },
  {
   "cell_type": "markdown",
   "metadata": {},
   "source": [
    "*Fill in your dataset information here*\n",
    "\n",
    "(Copy this information for each dataset)\n",
    "- Dataset Name: San Diego Crime Data (2019)\n",
    "- Link to the dataset: https://data.sandiego.gov/datasets/police-calls-for-service/\n",
    "- Number of observations: 590967 (We randomly sample 15,000)\n",
    "- Description: This database has a record of every police call. It records many features including the date, type of call, and priority. The only feature I use is the address of the call.\n",
    "\n",
    "\n",
    "- Dataset Name: San Diego Parks Yelp Data\n",
    "- Link to the dataset: https://www.yelp.com/\n",
    "- Number of observations: 833\n",
    "- Description: This dataset provides the rating, location, and general information for parks in San Diego\n",
    "\n",
    "\n",
    "- Dataset Name: Park Locations Data\n",
    "- Link to the dataset: https://data.sandiego.gov/datasets/park-locations/\n",
    "- Number of observations: 2769\n",
    "- Description: This dataset provides geographic information for public parks. I am interested in the park_type field.\n",
    "\n",
    "\n",
    "I combine the Yelp and Park Locations databases on the name of the park. I combine the Crime Data and Yelp databases on location. Using Google's Geocoding API, I convert the address of the police call into latitude and longitude, and calculate the distance between the call and each park."
   ]
  },
  {
   "cell_type": "markdown",
   "metadata": {},
   "source": [
    "# Setup"
   ]
  },
  {
   "cell_type": "code",
   "execution_count": 148,
   "metadata": {},
   "outputs": [],
   "source": [
    "## YOUR CODE HERE\n",
    "import geopandas\n",
    "import geopy\n",
    "import pandas as pd\n",
    "import geocoder\n",
    "import numpy as np\n",
    "import threading\n",
    "import concurrent.futures\n",
    "import geopy.distance\n",
    "import folium\n",
    "from folium import plugins\n",
    "import branca.colormap\n",
    "import branca\n",
    "from collections import defaultdict\n",
    "import math\n",
    "import patsy\n",
    "import statsmodels.api as sm\n",
    "import seaborn as sns\n"
   ]
  },
  {
   "cell_type": "code",
   "execution_count": 2,
   "metadata": {},
   "outputs": [],
   "source": [
    "parks = pd.read_csv(\"../data/yelp_SD_parks.csv\")\n",
    "crimes = pd.read_csv(\"../data/pd_calls_for_service_2019_datasd.csv\")"
   ]
  },
  {
   "cell_type": "code",
   "execution_count": 3,
   "metadata": {},
   "outputs": [
    {
     "data": {
      "text/html": [
       "<div>\n",
       "<style scoped>\n",
       "    .dataframe tbody tr th:only-of-type {\n",
       "        vertical-align: middle;\n",
       "    }\n",
       "\n",
       "    .dataframe tbody tr th {\n",
       "        vertical-align: top;\n",
       "    }\n",
       "\n",
       "    .dataframe thead th {\n",
       "        text-align: right;\n",
       "    }\n",
       "</style>\n",
       "<table border=\"1\" class=\"dataframe\">\n",
       "  <thead>\n",
       "    <tr style=\"text-align: right;\">\n",
       "      <th></th>\n",
       "      <th>incident_num</th>\n",
       "      <th>date_time</th>\n",
       "      <th>day_of_week</th>\n",
       "      <th>address_number_primary</th>\n",
       "      <th>address_dir_primary</th>\n",
       "      <th>address_road_primary</th>\n",
       "      <th>address_sfx_primary</th>\n",
       "      <th>address_dir_intersecting</th>\n",
       "      <th>address_road_intersecting</th>\n",
       "      <th>address_sfx_intersecting</th>\n",
       "      <th>call_type</th>\n",
       "      <th>disposition</th>\n",
       "      <th>beat</th>\n",
       "      <th>priority</th>\n",
       "    </tr>\n",
       "  </thead>\n",
       "  <tbody>\n",
       "    <tr>\n",
       "      <th>0</th>\n",
       "      <td>E19010000001</td>\n",
       "      <td>2019-01-01 00:00:01</td>\n",
       "      <td>1</td>\n",
       "      <td>3800</td>\n",
       "      <td>NaN</td>\n",
       "      <td>NATIONAL</td>\n",
       "      <td>AVE</td>\n",
       "      <td>NaN</td>\n",
       "      <td>NaN</td>\n",
       "      <td>NaN</td>\n",
       "      <td>AU1</td>\n",
       "      <td>DUP</td>\n",
       "      <td>441</td>\n",
       "      <td>1</td>\n",
       "    </tr>\n",
       "    <tr>\n",
       "      <th>1</th>\n",
       "      <td>E19010000002</td>\n",
       "      <td>2019-01-01 00:00:04</td>\n",
       "      <td>1</td>\n",
       "      <td>6500</td>\n",
       "      <td>NaN</td>\n",
       "      <td>REFLECTION</td>\n",
       "      <td>DR</td>\n",
       "      <td>NaN</td>\n",
       "      <td>NaN</td>\n",
       "      <td>NaN</td>\n",
       "      <td>415</td>\n",
       "      <td>K</td>\n",
       "      <td>321</td>\n",
       "      <td>2</td>\n",
       "    </tr>\n",
       "    <tr>\n",
       "      <th>2</th>\n",
       "      <td>E19010000003</td>\n",
       "      <td>2019-01-01 00:00:09</td>\n",
       "      <td>1</td>\n",
       "      <td>0</td>\n",
       "      <td>NaN</td>\n",
       "      <td>06TH</td>\n",
       "      <td>AVE</td>\n",
       "      <td>NaN</td>\n",
       "      <td>ISLAND</td>\n",
       "      <td>NaN</td>\n",
       "      <td>FD</td>\n",
       "      <td>K</td>\n",
       "      <td>523</td>\n",
       "      <td>2</td>\n",
       "    </tr>\n",
       "    <tr>\n",
       "      <th>3</th>\n",
       "      <td>E19010000004</td>\n",
       "      <td>2019-01-01 00:00:19</td>\n",
       "      <td>1</td>\n",
       "      <td>0</td>\n",
       "      <td>NaN</td>\n",
       "      <td>VESTA</td>\n",
       "      <td>ST</td>\n",
       "      <td>NaN</td>\n",
       "      <td>MAIN</td>\n",
       "      <td>NaN</td>\n",
       "      <td>AU1</td>\n",
       "      <td>W</td>\n",
       "      <td>511</td>\n",
       "      <td>1</td>\n",
       "    </tr>\n",
       "    <tr>\n",
       "      <th>4</th>\n",
       "      <td>E19010000005</td>\n",
       "      <td>2019-01-01 00:00:31</td>\n",
       "      <td>1</td>\n",
       "      <td>0</td>\n",
       "      <td>NaN</td>\n",
       "      <td>04TH</td>\n",
       "      <td>AVE</td>\n",
       "      <td>NaN</td>\n",
       "      <td>ISLAND</td>\n",
       "      <td>NaN</td>\n",
       "      <td>586</td>\n",
       "      <td>CAN</td>\n",
       "      <td>523</td>\n",
       "      <td>4</td>\n",
       "    </tr>\n",
       "    <tr>\n",
       "      <th>...</th>\n",
       "      <td>...</td>\n",
       "      <td>...</td>\n",
       "      <td>...</td>\n",
       "      <td>...</td>\n",
       "      <td>...</td>\n",
       "      <td>...</td>\n",
       "      <td>...</td>\n",
       "      <td>...</td>\n",
       "      <td>...</td>\n",
       "      <td>...</td>\n",
       "      <td>...</td>\n",
       "      <td>...</td>\n",
       "      <td>...</td>\n",
       "      <td>...</td>\n",
       "    </tr>\n",
       "    <tr>\n",
       "      <th>590962</th>\n",
       "      <td>E19120050370</td>\n",
       "      <td>2019-12-31 23:57:36</td>\n",
       "      <td>3</td>\n",
       "      <td>4300</td>\n",
       "      <td>NaN</td>\n",
       "      <td>OCEAN</td>\n",
       "      <td>BLV</td>\n",
       "      <td>NaN</td>\n",
       "      <td>NaN</td>\n",
       "      <td>NaN</td>\n",
       "      <td>FOOT</td>\n",
       "      <td>CAN</td>\n",
       "      <td>122</td>\n",
       "      <td>3</td>\n",
       "    </tr>\n",
       "    <tr>\n",
       "      <th>590963</th>\n",
       "      <td>E19120050372</td>\n",
       "      <td>2019-12-31 23:58:11</td>\n",
       "      <td>3</td>\n",
       "      <td>3400</td>\n",
       "      <td>NaN</td>\n",
       "      <td>RUFFIN</td>\n",
       "      <td>RD</td>\n",
       "      <td>NaN</td>\n",
       "      <td>NaN</td>\n",
       "      <td>NaN</td>\n",
       "      <td>415N</td>\n",
       "      <td>K</td>\n",
       "      <td>311</td>\n",
       "      <td>3</td>\n",
       "    </tr>\n",
       "    <tr>\n",
       "      <th>590964</th>\n",
       "      <td>E19120050373</td>\n",
       "      <td>2019-12-31 23:59:30</td>\n",
       "      <td>3</td>\n",
       "      <td>0</td>\n",
       "      <td>NaN</td>\n",
       "      <td>04TH</td>\n",
       "      <td>AVE</td>\n",
       "      <td>NaN</td>\n",
       "      <td>K</td>\n",
       "      <td>NaN</td>\n",
       "      <td>1016</td>\n",
       "      <td>A</td>\n",
       "      <td>-1</td>\n",
       "      <td>2</td>\n",
       "    </tr>\n",
       "    <tr>\n",
       "      <th>590965</th>\n",
       "      <td>E19120050374</td>\n",
       "      <td>2019-12-31 23:59:35</td>\n",
       "      <td>3</td>\n",
       "      <td>0</td>\n",
       "      <td>NaN</td>\n",
       "      <td>04TH</td>\n",
       "      <td>AVE</td>\n",
       "      <td>NaN</td>\n",
       "      <td>K</td>\n",
       "      <td>NaN</td>\n",
       "      <td>1016</td>\n",
       "      <td>A</td>\n",
       "      <td>523</td>\n",
       "      <td>2</td>\n",
       "    </tr>\n",
       "    <tr>\n",
       "      <th>590966</th>\n",
       "      <td>E19120050375</td>\n",
       "      <td>2019-12-31 23:59:53</td>\n",
       "      <td>3</td>\n",
       "      <td>6200</td>\n",
       "      <td>NaN</td>\n",
       "      <td>LAKE ATLIN</td>\n",
       "      <td>AVE</td>\n",
       "      <td>NaN</td>\n",
       "      <td>NaN</td>\n",
       "      <td>NaN</td>\n",
       "      <td>AU1</td>\n",
       "      <td>W</td>\n",
       "      <td>324</td>\n",
       "      <td>1</td>\n",
       "    </tr>\n",
       "  </tbody>\n",
       "</table>\n",
       "<p>590967 rows × 14 columns</p>\n",
       "</div>"
      ],
      "text/plain": [
       "        incident_num            date_time  day_of_week  \\\n",
       "0       E19010000001  2019-01-01 00:00:01            1   \n",
       "1       E19010000002  2019-01-01 00:00:04            1   \n",
       "2       E19010000003  2019-01-01 00:00:09            1   \n",
       "3       E19010000004  2019-01-01 00:00:19            1   \n",
       "4       E19010000005  2019-01-01 00:00:31            1   \n",
       "...              ...                  ...          ...   \n",
       "590962  E19120050370  2019-12-31 23:57:36            3   \n",
       "590963  E19120050372  2019-12-31 23:58:11            3   \n",
       "590964  E19120050373  2019-12-31 23:59:30            3   \n",
       "590965  E19120050374  2019-12-31 23:59:35            3   \n",
       "590966  E19120050375  2019-12-31 23:59:53            3   \n",
       "\n",
       "        address_number_primary address_dir_primary address_road_primary  \\\n",
       "0                         3800                 NaN             NATIONAL   \n",
       "1                         6500                 NaN           REFLECTION   \n",
       "2                            0                 NaN                 06TH   \n",
       "3                            0                 NaN                VESTA   \n",
       "4                            0                 NaN                 04TH   \n",
       "...                        ...                 ...                  ...   \n",
       "590962                    4300                 NaN                OCEAN   \n",
       "590963                    3400                 NaN               RUFFIN   \n",
       "590964                       0                 NaN                 04TH   \n",
       "590965                       0                 NaN                 04TH   \n",
       "590966                    6200                 NaN           LAKE ATLIN   \n",
       "\n",
       "       address_sfx_primary  address_dir_intersecting  \\\n",
       "0                      AVE                       NaN   \n",
       "1                       DR                       NaN   \n",
       "2                      AVE                       NaN   \n",
       "3                       ST                       NaN   \n",
       "4                      AVE                       NaN   \n",
       "...                    ...                       ...   \n",
       "590962                 BLV                       NaN   \n",
       "590963                  RD                       NaN   \n",
       "590964                 AVE                       NaN   \n",
       "590965                 AVE                       NaN   \n",
       "590966                 AVE                       NaN   \n",
       "\n",
       "       address_road_intersecting  address_sfx_intersecting call_type  \\\n",
       "0                            NaN                       NaN       AU1   \n",
       "1                            NaN                       NaN       415   \n",
       "2                         ISLAND                       NaN        FD   \n",
       "3                           MAIN                       NaN       AU1   \n",
       "4                         ISLAND                       NaN       586   \n",
       "...                          ...                       ...       ...   \n",
       "590962                       NaN                       NaN      FOOT   \n",
       "590963                       NaN                       NaN      415N   \n",
       "590964                         K                       NaN      1016   \n",
       "590965                         K                       NaN      1016   \n",
       "590966                       NaN                       NaN       AU1   \n",
       "\n",
       "       disposition  beat  priority  \n",
       "0              DUP   441         1  \n",
       "1                K   321         2  \n",
       "2                K   523         2  \n",
       "3                W   511         1  \n",
       "4              CAN   523         4  \n",
       "...            ...   ...       ...  \n",
       "590962         CAN   122         3  \n",
       "590963           K   311         3  \n",
       "590964           A    -1         2  \n",
       "590965           A   523         2  \n",
       "590966           W   324         1  \n",
       "\n",
       "[590967 rows x 14 columns]"
      ]
     },
     "execution_count": 3,
     "metadata": {},
     "output_type": "execute_result"
    }
   ],
   "source": [
    "crimes"
   ]
  },
  {
   "cell_type": "code",
   "execution_count": 4,
   "metadata": {},
   "outputs": [
    {
     "data": {
      "text/html": [
       "<div>\n",
       "<style scoped>\n",
       "    .dataframe tbody tr th:only-of-type {\n",
       "        vertical-align: middle;\n",
       "    }\n",
       "\n",
       "    .dataframe tbody tr th {\n",
       "        vertical-align: top;\n",
       "    }\n",
       "\n",
       "    .dataframe thead th {\n",
       "        text-align: right;\n",
       "    }\n",
       "</style>\n",
       "<table border=\"1\" class=\"dataframe\">\n",
       "  <thead>\n",
       "    <tr style=\"text-align: right;\">\n",
       "      <th></th>\n",
       "      <th>name</th>\n",
       "      <th>address</th>\n",
       "      <th>phone</th>\n",
       "      <th>id</th>\n",
       "      <th>url</th>\n",
       "      <th>rating</th>\n",
       "      <th>review_count</th>\n",
       "      <th>longitude</th>\n",
       "      <th>latitude</th>\n",
       "      <th>is_closed</th>\n",
       "    </tr>\n",
       "  </thead>\n",
       "  <tbody>\n",
       "    <tr>\n",
       "      <th>0</th>\n",
       "      <td>Balboa Park</td>\n",
       "      <td>1549 El Prado San Diego, CA 92101</td>\n",
       "      <td>1.619239e+10</td>\n",
       "      <td>9M_FW_-Ipx93I36w-_ykBg</td>\n",
       "      <td>https://www.yelp.com/biz/balboa-park-san-diego...</td>\n",
       "      <td>5.0</td>\n",
       "      <td>2105</td>\n",
       "      <td>-117.153150</td>\n",
       "      <td>32.734502</td>\n",
       "      <td>False</td>\n",
       "    </tr>\n",
       "    <tr>\n",
       "      <th>1</th>\n",
       "      <td>Civita Park</td>\n",
       "      <td>7960 Civita Blvd San Diego, CA 92108</td>\n",
       "      <td>NaN</td>\n",
       "      <td>3AEHjqNrTmggA6G9VdhQfg</td>\n",
       "      <td>https://www.yelp.com/biz/civita-park-san-diego...</td>\n",
       "      <td>4.5</td>\n",
       "      <td>46</td>\n",
       "      <td>-117.147278</td>\n",
       "      <td>32.778315</td>\n",
       "      <td>False</td>\n",
       "    </tr>\n",
       "    <tr>\n",
       "      <th>2</th>\n",
       "      <td>Waterfront Park</td>\n",
       "      <td>1600 Pacific Hwy San Diego, CA 92101</td>\n",
       "      <td>1.619233e+10</td>\n",
       "      <td>3unbJeYrn1RmInZGmjp80g</td>\n",
       "      <td>https://www.yelp.com/biz/waterfront-park-san-d...</td>\n",
       "      <td>4.5</td>\n",
       "      <td>242</td>\n",
       "      <td>-117.172479</td>\n",
       "      <td>32.721952</td>\n",
       "      <td>False</td>\n",
       "    </tr>\n",
       "    <tr>\n",
       "      <th>3</th>\n",
       "      <td>Trolley Barn Park</td>\n",
       "      <td>Adams Ave And Florida St San Diego, CA 92116</td>\n",
       "      <td>NaN</td>\n",
       "      <td>PvHxIYrmaiFKdWUDTMDzcg</td>\n",
       "      <td>https://www.yelp.com/biz/trolley-barn-park-san...</td>\n",
       "      <td>4.5</td>\n",
       "      <td>102</td>\n",
       "      <td>-117.143789</td>\n",
       "      <td>32.762463</td>\n",
       "      <td>False</td>\n",
       "    </tr>\n",
       "    <tr>\n",
       "      <th>4</th>\n",
       "      <td>Bay View Park</td>\n",
       "      <td>413 1st St Coronado, CA 92118</td>\n",
       "      <td>NaN</td>\n",
       "      <td>6IF4VB9-fkv_F-LBvG8ppQ</td>\n",
       "      <td>https://www.yelp.com/biz/bay-view-park-coronad...</td>\n",
       "      <td>5.0</td>\n",
       "      <td>42</td>\n",
       "      <td>-117.178967</td>\n",
       "      <td>32.701785</td>\n",
       "      <td>False</td>\n",
       "    </tr>\n",
       "    <tr>\n",
       "      <th>...</th>\n",
       "      <td>...</td>\n",
       "      <td>...</td>\n",
       "      <td>...</td>\n",
       "      <td>...</td>\n",
       "      <td>...</td>\n",
       "      <td>...</td>\n",
       "      <td>...</td>\n",
       "      <td>...</td>\n",
       "      <td>...</td>\n",
       "      <td>...</td>\n",
       "    </tr>\n",
       "    <tr>\n",
       "      <th>828</th>\n",
       "      <td>Del Cerro - San Diego</td>\n",
       "      <td>San Diego, CA 92120</td>\n",
       "      <td>1.619287e+10</td>\n",
       "      <td>ggbc59hSsl6pxCGSN1QLQA</td>\n",
       "      <td>https://www.yelp.com/biz/del-cerro-san-diego-s...</td>\n",
       "      <td>4.5</td>\n",
       "      <td>12</td>\n",
       "      <td>-117.073524</td>\n",
       "      <td>32.792626</td>\n",
       "      <td>False</td>\n",
       "    </tr>\n",
       "    <tr>\n",
       "      <th>829</th>\n",
       "      <td>San Diego Metropolitan Transit System</td>\n",
       "      <td>1255 Imperial Ave Ste 1000 San Diego, CA 92101</td>\n",
       "      <td>1.619238e+10</td>\n",
       "      <td>c8jhIMcwSjWqBD7S-faKYg</td>\n",
       "      <td>https://www.yelp.com/biz/san-diego-metropolita...</td>\n",
       "      <td>2.5</td>\n",
       "      <td>268</td>\n",
       "      <td>-117.153400</td>\n",
       "      <td>32.705760</td>\n",
       "      <td>False</td>\n",
       "    </tr>\n",
       "    <tr>\n",
       "      <th>830</th>\n",
       "      <td>Petco Park</td>\n",
       "      <td>100 Park Blvd San Diego, CA 92101</td>\n",
       "      <td>1.619796e+10</td>\n",
       "      <td>HkgSbRLVMRHExsRkImIK5A</td>\n",
       "      <td>https://www.yelp.com/biz/petco-park-san-diego?...</td>\n",
       "      <td>4.0</td>\n",
       "      <td>1667</td>\n",
       "      <td>-117.157054</td>\n",
       "      <td>32.707246</td>\n",
       "      <td>False</td>\n",
       "    </tr>\n",
       "    <tr>\n",
       "      <th>831</th>\n",
       "      <td>Ann D. L'Heureux Memorial Dog Park</td>\n",
       "      <td>2700 Carlsbad Village Dr Carlsbad, CA 92008</td>\n",
       "      <td>1.760434e+10</td>\n",
       "      <td>wYGJ65iVMi74-3TylWxY0Q</td>\n",
       "      <td>https://www.yelp.com/biz/ann-d-l-heureux-memor...</td>\n",
       "      <td>3.0</td>\n",
       "      <td>50</td>\n",
       "      <td>-117.316419</td>\n",
       "      <td>33.171137</td>\n",
       "      <td>False</td>\n",
       "    </tr>\n",
       "    <tr>\n",
       "      <th>832</th>\n",
       "      <td>Fairbrook Farm</td>\n",
       "      <td>4949 S Mission Rd Fallbrook, CA 92028</td>\n",
       "      <td>1.760729e+10</td>\n",
       "      <td>l3ZIY78OBs6BfkMQifY28g</td>\n",
       "      <td>https://www.yelp.com/biz/fairbrook-farm-fallbr...</td>\n",
       "      <td>5.0</td>\n",
       "      <td>1</td>\n",
       "      <td>-117.227747</td>\n",
       "      <td>33.302164</td>\n",
       "      <td>False</td>\n",
       "    </tr>\n",
       "  </tbody>\n",
       "</table>\n",
       "<p>833 rows × 10 columns</p>\n",
       "</div>"
      ],
      "text/plain": [
       "                                      name  \\\n",
       "0                              Balboa Park   \n",
       "1                              Civita Park   \n",
       "2                          Waterfront Park   \n",
       "3                        Trolley Barn Park   \n",
       "4                            Bay View Park   \n",
       "..                                     ...   \n",
       "828                  Del Cerro - San Diego   \n",
       "829  San Diego Metropolitan Transit System   \n",
       "830                             Petco Park   \n",
       "831     Ann D. L'Heureux Memorial Dog Park   \n",
       "832                         Fairbrook Farm   \n",
       "\n",
       "                                            address         phone  \\\n",
       "0                 1549 El Prado San Diego, CA 92101  1.619239e+10   \n",
       "1              7960 Civita Blvd San Diego, CA 92108           NaN   \n",
       "2              1600 Pacific Hwy San Diego, CA 92101  1.619233e+10   \n",
       "3      Adams Ave And Florida St San Diego, CA 92116           NaN   \n",
       "4                     413 1st St Coronado, CA 92118           NaN   \n",
       "..                                              ...           ...   \n",
       "828                             San Diego, CA 92120  1.619287e+10   \n",
       "829  1255 Imperial Ave Ste 1000 San Diego, CA 92101  1.619238e+10   \n",
       "830               100 Park Blvd San Diego, CA 92101  1.619796e+10   \n",
       "831     2700 Carlsbad Village Dr Carlsbad, CA 92008  1.760434e+10   \n",
       "832           4949 S Mission Rd Fallbrook, CA 92028  1.760729e+10   \n",
       "\n",
       "                         id  \\\n",
       "0    9M_FW_-Ipx93I36w-_ykBg   \n",
       "1    3AEHjqNrTmggA6G9VdhQfg   \n",
       "2    3unbJeYrn1RmInZGmjp80g   \n",
       "3    PvHxIYrmaiFKdWUDTMDzcg   \n",
       "4    6IF4VB9-fkv_F-LBvG8ppQ   \n",
       "..                      ...   \n",
       "828  ggbc59hSsl6pxCGSN1QLQA   \n",
       "829  c8jhIMcwSjWqBD7S-faKYg   \n",
       "830  HkgSbRLVMRHExsRkImIK5A   \n",
       "831  wYGJ65iVMi74-3TylWxY0Q   \n",
       "832  l3ZIY78OBs6BfkMQifY28g   \n",
       "\n",
       "                                                   url  rating  review_count  \\\n",
       "0    https://www.yelp.com/biz/balboa-park-san-diego...     5.0          2105   \n",
       "1    https://www.yelp.com/biz/civita-park-san-diego...     4.5            46   \n",
       "2    https://www.yelp.com/biz/waterfront-park-san-d...     4.5           242   \n",
       "3    https://www.yelp.com/biz/trolley-barn-park-san...     4.5           102   \n",
       "4    https://www.yelp.com/biz/bay-view-park-coronad...     5.0            42   \n",
       "..                                                 ...     ...           ...   \n",
       "828  https://www.yelp.com/biz/del-cerro-san-diego-s...     4.5            12   \n",
       "829  https://www.yelp.com/biz/san-diego-metropolita...     2.5           268   \n",
       "830  https://www.yelp.com/biz/petco-park-san-diego?...     4.0          1667   \n",
       "831  https://www.yelp.com/biz/ann-d-l-heureux-memor...     3.0            50   \n",
       "832  https://www.yelp.com/biz/fairbrook-farm-fallbr...     5.0             1   \n",
       "\n",
       "      longitude   latitude  is_closed  \n",
       "0   -117.153150  32.734502      False  \n",
       "1   -117.147278  32.778315      False  \n",
       "2   -117.172479  32.721952      False  \n",
       "3   -117.143789  32.762463      False  \n",
       "4   -117.178967  32.701785      False  \n",
       "..          ...        ...        ...  \n",
       "828 -117.073524  32.792626      False  \n",
       "829 -117.153400  32.705760      False  \n",
       "830 -117.157054  32.707246      False  \n",
       "831 -117.316419  33.171137      False  \n",
       "832 -117.227747  33.302164      False  \n",
       "\n",
       "[833 rows x 10 columns]"
      ]
     },
     "execution_count": 4,
     "metadata": {},
     "output_type": "execute_result"
    }
   ],
   "source": [
    "parks"
   ]
  },
  {
   "cell_type": "code",
   "execution_count": 5,
   "metadata": {},
   "outputs": [],
   "source": [
    "#Google API Key. Removed my own because I'm pushing to github,\n",
    "#insert your own or contact me if you want to run the code\n",
    "GOOGLE_API_KEY = None"
   ]
  },
  {
   "cell_type": "markdown",
   "metadata": {},
   "source": [
    "# Data Cleaning"
   ]
  },
  {
   "cell_type": "markdown",
   "metadata": {},
   "source": [
    "Describe your data cleaning steps here."
   ]
  },
  {
   "cell_type": "code",
   "execution_count": 7,
   "metadata": {},
   "outputs": [],
   "source": [
    "#Convert row into address string\n",
    "def parseAddress(row):\n",
    "    out = \"\"\n",
    "    if str(row[\"address_number_primary\"]) != \"0\":\n",
    "        out += str(row[\"address_number_primary\"]) + \" \"\n",
    "        x = str(row[\"address_road_primary\"])\n",
    "        if x[0] == \"0\":\n",
    "            x = x[1:]\n",
    "        out += x\n",
    "        if str(row[\"address_sfx_primary\"]) != 'nan':\n",
    "            out += \" \" + row[\"address_sfx_primary\"]\n",
    "    elif str(row[\"address_road_intersecting\"]) != \"nan\":\n",
    "        x = str(row[\"address_road_primary\"])\n",
    "        if x[0] == \"0\":\n",
    "            x = x[1:]\n",
    "        out += x\n",
    "        if str(row[\"address_sfx_primary\"]) != 'nan':\n",
    "            out += \" \" +row[\"address_sfx_primary\"]\n",
    "        out += \" AND \"\n",
    "        x = str(row[\"address_road_intersecting\"])\n",
    "        if x[0] == \"0\":\n",
    "            x = x[1:]\n",
    "        out += x\n",
    "        if str(row[\"address_sfx_intersecting\"]) != 'nan':\n",
    "            out += \" \" + row[\"address_sfx_intersecting\"]\n",
    "    else:\n",
    "        return np.nan\n",
    "    return out + \", San Diego, CA\""
   ]
  },
  {
   "cell_type": "code",
   "execution_count": 8,
   "metadata": {},
   "outputs": [],
   "source": [
    "#Convert street address to long/lat\n",
    "def doIt(row):\n",
    "    s = parseAddress(row)\n",
    "    if s == np.nan:\n",
    "        res = np.nan\n",
    "    else:\n",
    "        res = geocoder.google(s, key = GOOGLE_API_KEY, rate_limit = False)\n",
    "    return (row[\"incident_num\"], res)"
   ]
  },
  {
   "cell_type": "code",
   "execution_count": 9,
   "metadata": {},
   "outputs": [],
   "source": [
    "#Due to API and hardware limitations, we randomly sample 15,000 police calls\n",
    "#from the database\n",
    "with concurrent.futures.ThreadPoolExecutor(50) as executor:\n",
    "    result = executor.map(doIt, [row for _, row in crimes.sample(n=15000).iterrows()])"
   ]
  },
  {
   "cell_type": "code",
   "execution_count": 12,
   "metadata": {},
   "outputs": [],
   "source": [
    "#Create a file with the geoencoded data so we don't have to make the API calls\n",
    "#every time\n",
    "results2 = \"id, long, lat\"\n",
    "lc = 0\n",
    "for i, r in result:\n",
    "    if r == np.nan or r.json is None:\n",
    "        continue\n",
    "    else:\n",
    "        lc += 1\n",
    "        results2 += \"\\n\" + str(i) + \", \" + str(r.json[\"lng\"]) + \", \" + str(r.json[\"lat\"])"
   ]
  },
  {
   "cell_type": "code",
   "execution_count": 14,
   "metadata": {},
   "outputs": [],
   "source": [
    "with open('crimeLocs.csv', mode='wt', encoding='utf-8') as myfile:\n",
    "    myfile.write(results2)"
   ]
  },
  {
   "cell_type": "code",
   "execution_count": 27,
   "metadata": {},
   "outputs": [
    {
     "data": {
      "text/html": [
       "<div>\n",
       "<style scoped>\n",
       "    .dataframe tbody tr th:only-of-type {\n",
       "        vertical-align: middle;\n",
       "    }\n",
       "\n",
       "    .dataframe tbody tr th {\n",
       "        vertical-align: top;\n",
       "    }\n",
       "\n",
       "    .dataframe thead th {\n",
       "        text-align: right;\n",
       "    }\n",
       "</style>\n",
       "<table border=\"1\" class=\"dataframe\">\n",
       "  <thead>\n",
       "    <tr style=\"text-align: right;\">\n",
       "      <th></th>\n",
       "      <th>id</th>\n",
       "      <th>long</th>\n",
       "      <th>lat</th>\n",
       "    </tr>\n",
       "  </thead>\n",
       "  <tbody>\n",
       "    <tr>\n",
       "      <th>0</th>\n",
       "      <td>E19050034688</td>\n",
       "      <td>-117.240912</td>\n",
       "      <td>32.749481</td>\n",
       "    </tr>\n",
       "    <tr>\n",
       "      <th>1</th>\n",
       "      <td>E19080031855</td>\n",
       "      <td>-117.048716</td>\n",
       "      <td>32.676447</td>\n",
       "    </tr>\n",
       "    <tr>\n",
       "      <th>2</th>\n",
       "      <td>E19040043725</td>\n",
       "      <td>-117.249672</td>\n",
       "      <td>32.851449</td>\n",
       "    </tr>\n",
       "    <tr>\n",
       "      <th>3</th>\n",
       "      <td>E19080029013</td>\n",
       "      <td>-117.152641</td>\n",
       "      <td>32.884444</td>\n",
       "    </tr>\n",
       "    <tr>\n",
       "      <th>4</th>\n",
       "      <td>E19030052941</td>\n",
       "      <td>-117.076093</td>\n",
       "      <td>32.725233</td>\n",
       "    </tr>\n",
       "    <tr>\n",
       "      <th>...</th>\n",
       "      <td>...</td>\n",
       "      <td>...</td>\n",
       "      <td>...</td>\n",
       "    </tr>\n",
       "    <tr>\n",
       "      <th>8903</th>\n",
       "      <td>E19030020300</td>\n",
       "      <td>-117.149272</td>\n",
       "      <td>32.704959</td>\n",
       "    </tr>\n",
       "    <tr>\n",
       "      <th>8904</th>\n",
       "      <td>E19070009835</td>\n",
       "      <td>-117.137991</td>\n",
       "      <td>32.769081</td>\n",
       "    </tr>\n",
       "    <tr>\n",
       "      <th>8905</th>\n",
       "      <td>E19020003875</td>\n",
       "      <td>-117.085027</td>\n",
       "      <td>32.717423</td>\n",
       "    </tr>\n",
       "    <tr>\n",
       "      <th>8906</th>\n",
       "      <td>E19110009589</td>\n",
       "      <td>-117.130193</td>\n",
       "      <td>32.755406</td>\n",
       "    </tr>\n",
       "    <tr>\n",
       "      <th>8907</th>\n",
       "      <td>E19060050268</td>\n",
       "      <td>-117.254499</td>\n",
       "      <td>32.799767</td>\n",
       "    </tr>\n",
       "  </tbody>\n",
       "</table>\n",
       "<p>8908 rows × 3 columns</p>\n",
       "</div>"
      ],
      "text/plain": [
       "                id        long        lat\n",
       "0     E19050034688 -117.240912  32.749481\n",
       "1     E19080031855 -117.048716  32.676447\n",
       "2     E19040043725 -117.249672  32.851449\n",
       "3     E19080029013 -117.152641  32.884444\n",
       "4     E19030052941 -117.076093  32.725233\n",
       "...            ...         ...        ...\n",
       "8903  E19030020300 -117.149272  32.704959\n",
       "8904  E19070009835 -117.137991  32.769081\n",
       "8905  E19020003875 -117.085027  32.717423\n",
       "8906  E19110009589 -117.130193  32.755406\n",
       "8907  E19060050268 -117.254499  32.799767\n",
       "\n",
       "[8908 rows x 3 columns]"
      ]
     },
     "execution_count": 27,
     "metadata": {},
     "output_type": "execute_result"
    }
   ],
   "source": [
    "cdf = pd.read_csv('crimeLocs.csv')\n",
    "cdf.columns = ['id', 'long', 'lat']\n",
    "cdf"
   ]
  },
  {
   "cell_type": "code",
   "execution_count": 42,
   "metadata": {},
   "outputs": [
    {
     "name": "stderr",
     "output_type": "stream",
     "text": [
      "/opt/conda/lib/python3.7/site-packages/ipykernel_launcher.py:2: SettingWithCopyWarning: \n",
      "A value is trying to be set on a copy of a slice from a DataFrame.\n",
      "Try using .loc[row_indexer,col_indexer] = value instead\n",
      "\n",
      "See the caveats in the documentation: https://pandas.pydata.org/pandas-docs/stable/user_guide/indexing.html#returning-a-view-versus-a-copy\n",
      "  \n"
     ]
    },
    {
     "data": {
      "text/html": [
       "<div>\n",
       "<style scoped>\n",
       "    .dataframe tbody tr th:only-of-type {\n",
       "        vertical-align: middle;\n",
       "    }\n",
       "\n",
       "    .dataframe tbody tr th {\n",
       "        vertical-align: top;\n",
       "    }\n",
       "\n",
       "    .dataframe thead th {\n",
       "        text-align: right;\n",
       "    }\n",
       "</style>\n",
       "<table border=\"1\" class=\"dataframe\">\n",
       "  <thead>\n",
       "    <tr style=\"text-align: right;\">\n",
       "      <th></th>\n",
       "      <th>name</th>\n",
       "      <th>longitude</th>\n",
       "      <th>latitude</th>\n",
       "      <th>rating</th>\n",
       "      <th>calls</th>\n",
       "    </tr>\n",
       "  </thead>\n",
       "  <tbody>\n",
       "    <tr>\n",
       "      <th>0</th>\n",
       "      <td>Balboa Park</td>\n",
       "      <td>-117.153150</td>\n",
       "      <td>32.734502</td>\n",
       "      <td>5.0</td>\n",
       "      <td>0</td>\n",
       "    </tr>\n",
       "    <tr>\n",
       "      <th>1</th>\n",
       "      <td>Civita Park</td>\n",
       "      <td>-117.147278</td>\n",
       "      <td>32.778315</td>\n",
       "      <td>4.5</td>\n",
       "      <td>0</td>\n",
       "    </tr>\n",
       "    <tr>\n",
       "      <th>2</th>\n",
       "      <td>Waterfront Park</td>\n",
       "      <td>-117.172479</td>\n",
       "      <td>32.721952</td>\n",
       "      <td>4.5</td>\n",
       "      <td>0</td>\n",
       "    </tr>\n",
       "    <tr>\n",
       "      <th>3</th>\n",
       "      <td>Trolley Barn Park</td>\n",
       "      <td>-117.143789</td>\n",
       "      <td>32.762463</td>\n",
       "      <td>4.5</td>\n",
       "      <td>0</td>\n",
       "    </tr>\n",
       "    <tr>\n",
       "      <th>4</th>\n",
       "      <td>Bay View Park</td>\n",
       "      <td>-117.178967</td>\n",
       "      <td>32.701785</td>\n",
       "      <td>5.0</td>\n",
       "      <td>0</td>\n",
       "    </tr>\n",
       "    <tr>\n",
       "      <th>...</th>\n",
       "      <td>...</td>\n",
       "      <td>...</td>\n",
       "      <td>...</td>\n",
       "      <td>...</td>\n",
       "      <td>...</td>\n",
       "    </tr>\n",
       "    <tr>\n",
       "      <th>828</th>\n",
       "      <td>Del Cerro - San Diego</td>\n",
       "      <td>-117.073524</td>\n",
       "      <td>32.792626</td>\n",
       "      <td>4.5</td>\n",
       "      <td>0</td>\n",
       "    </tr>\n",
       "    <tr>\n",
       "      <th>829</th>\n",
       "      <td>San Diego Metropolitan Transit System</td>\n",
       "      <td>-117.153400</td>\n",
       "      <td>32.705760</td>\n",
       "      <td>2.5</td>\n",
       "      <td>0</td>\n",
       "    </tr>\n",
       "    <tr>\n",
       "      <th>830</th>\n",
       "      <td>Petco Park</td>\n",
       "      <td>-117.157054</td>\n",
       "      <td>32.707246</td>\n",
       "      <td>4.0</td>\n",
       "      <td>0</td>\n",
       "    </tr>\n",
       "    <tr>\n",
       "      <th>831</th>\n",
       "      <td>Ann D. L'Heureux Memorial Dog Park</td>\n",
       "      <td>-117.316419</td>\n",
       "      <td>33.171137</td>\n",
       "      <td>3.0</td>\n",
       "      <td>0</td>\n",
       "    </tr>\n",
       "    <tr>\n",
       "      <th>832</th>\n",
       "      <td>Fairbrook Farm</td>\n",
       "      <td>-117.227747</td>\n",
       "      <td>33.302164</td>\n",
       "      <td>5.0</td>\n",
       "      <td>0</td>\n",
       "    </tr>\n",
       "  </tbody>\n",
       "</table>\n",
       "<p>832 rows × 5 columns</p>\n",
       "</div>"
      ],
      "text/plain": [
       "                                      name   longitude   latitude  rating  \\\n",
       "0                              Balboa Park -117.153150  32.734502     5.0   \n",
       "1                              Civita Park -117.147278  32.778315     4.5   \n",
       "2                          Waterfront Park -117.172479  32.721952     4.5   \n",
       "3                        Trolley Barn Park -117.143789  32.762463     4.5   \n",
       "4                            Bay View Park -117.178967  32.701785     5.0   \n",
       "..                                     ...         ...        ...     ...   \n",
       "828                  Del Cerro - San Diego -117.073524  32.792626     4.5   \n",
       "829  San Diego Metropolitan Transit System -117.153400  32.705760     2.5   \n",
       "830                             Petco Park -117.157054  32.707246     4.0   \n",
       "831     Ann D. L'Heureux Memorial Dog Park -117.316419  33.171137     3.0   \n",
       "832                         Fairbrook Farm -117.227747  33.302164     5.0   \n",
       "\n",
       "     calls  \n",
       "0        0  \n",
       "1        0  \n",
       "2        0  \n",
       "3        0  \n",
       "4        0  \n",
       "..     ...  \n",
       "828      0  \n",
       "829      0  \n",
       "830      0  \n",
       "831      0  \n",
       "832      0  \n",
       "\n",
       "[832 rows x 5 columns]"
      ]
     },
     "execution_count": 42,
     "metadata": {},
     "output_type": "execute_result"
    }
   ],
   "source": [
    "#Drop unecessary columns\n",
    "pdf = parks[['name', 'longitude', 'latitude', 'rating']]\n",
    "pdf['calls'] = [0] * len(parks['name'])\n",
    "pdf = pdf.dropna()\n",
    "pdf"
   ]
  },
  {
   "cell_type": "code",
   "execution_count": 141,
   "metadata": {},
   "outputs": [],
   "source": [
    "#Count the number of police calls near each park\n",
    "for i, park in pdf.iterrows():\n",
    "    pc = (park['latitude'], park['longitude'])\n",
    "    count = 0\n",
    "    for _, call in cdf.iterrows():\n",
    "        cc = (call['lat'], call['long'])\n",
    "        if geopy.distance.distance(pc, cc).miles < .5:\n",
    "            count += 1\n",
    "    pdf.loc[i, 'calls'] = count"
   ]
  },
  {
   "cell_type": "code",
   "execution_count": 46,
   "metadata": {},
   "outputs": [],
   "source": [
    "pdf.to_csv('parks_calls.csv')"
   ]
  },
  {
   "cell_type": "code",
   "execution_count": 144,
   "metadata": {},
   "outputs": [],
   "source": [
    "#We toss any park with less than 5 nearby calls, as they might be out of \n",
    "#the SD police jurisdiction\n",
    "pdf = pd.read_csv('parks_calls.csv')\n",
    "pdf = pdf[pdf['calls'] > 4]"
   ]
  },
  {
   "cell_type": "code",
   "execution_count": 175,
   "metadata": {},
   "outputs": [],
   "source": [
    "#Create another dataframe with just public parks\n",
    "gparks = geopandas.read_file('../data/parks_datasd.geojson')\n",
    "pdf2 = pdf.join(gparks[['park_type', 'name']].set_index('name'), on='name')\n",
    "pdft = pdf.join(gparks[['park_type', 'alias']].set_index('alias'), on='name')\n",
    "pdf2['park_type'] = [p if str(p) != 'nan' else g for p, g in zip(pdf2['park_type'], pdft['park_type'])]\n",
    "pdf2 = pdf2.dropna()\n",
    "pdf2 = pdf2[pdf2['park_type'] == 'Local']"
   ]
  },
  {
   "cell_type": "code",
   "execution_count": 176,
   "metadata": {},
   "outputs": [
    {
     "data": {
      "text/html": [
       "<div>\n",
       "<style scoped>\n",
       "    .dataframe tbody tr th:only-of-type {\n",
       "        vertical-align: middle;\n",
       "    }\n",
       "\n",
       "    .dataframe tbody tr th {\n",
       "        vertical-align: top;\n",
       "    }\n",
       "\n",
       "    .dataframe thead th {\n",
       "        text-align: right;\n",
       "    }\n",
       "</style>\n",
       "<table border=\"1\" class=\"dataframe\">\n",
       "  <thead>\n",
       "    <tr style=\"text-align: right;\">\n",
       "      <th></th>\n",
       "      <th>Unnamed: 0</th>\n",
       "      <th>name</th>\n",
       "      <th>longitude</th>\n",
       "      <th>latitude</th>\n",
       "      <th>rating</th>\n",
       "      <th>calls</th>\n",
       "      <th>log_calls</th>\n",
       "      <th>park_type</th>\n",
       "    </tr>\n",
       "  </thead>\n",
       "  <tbody>\n",
       "    <tr>\n",
       "      <th>5</th>\n",
       "      <td>5</td>\n",
       "      <td>Centrum Park</td>\n",
       "      <td>-117.138397</td>\n",
       "      <td>32.828037</td>\n",
       "      <td>3.5</td>\n",
       "      <td>59</td>\n",
       "      <td>4.077537</td>\n",
       "      <td>Local</td>\n",
       "    </tr>\n",
       "    <tr>\n",
       "      <th>9</th>\n",
       "      <td>9</td>\n",
       "      <td>Olive Grove Park</td>\n",
       "      <td>-117.171590</td>\n",
       "      <td>32.827435</td>\n",
       "      <td>4.0</td>\n",
       "      <td>39</td>\n",
       "      <td>3.663562</td>\n",
       "      <td>Local</td>\n",
       "    </tr>\n",
       "    <tr>\n",
       "      <th>12</th>\n",
       "      <td>12</td>\n",
       "      <td>Torrey Hills Park</td>\n",
       "      <td>-117.222578</td>\n",
       "      <td>32.917403</td>\n",
       "      <td>4.5</td>\n",
       "      <td>9</td>\n",
       "      <td>2.197225</td>\n",
       "      <td>Local</td>\n",
       "    </tr>\n",
       "    <tr>\n",
       "      <th>16</th>\n",
       "      <td>16</td>\n",
       "      <td>Torrey Meadows Park</td>\n",
       "      <td>-117.156367</td>\n",
       "      <td>32.963991</td>\n",
       "      <td>5.0</td>\n",
       "      <td>11</td>\n",
       "      <td>2.397895</td>\n",
       "      <td>Local</td>\n",
       "    </tr>\n",
       "    <tr>\n",
       "      <th>17</th>\n",
       "      <td>17</td>\n",
       "      <td>Palisades Park</td>\n",
       "      <td>-117.259621</td>\n",
       "      <td>32.802473</td>\n",
       "      <td>4.5</td>\n",
       "      <td>61</td>\n",
       "      <td>4.110874</td>\n",
       "      <td>Local</td>\n",
       "    </tr>\n",
       "    <tr>\n",
       "      <th>...</th>\n",
       "      <td>...</td>\n",
       "      <td>...</td>\n",
       "      <td>...</td>\n",
       "      <td>...</td>\n",
       "      <td>...</td>\n",
       "      <td>...</td>\n",
       "      <td>...</td>\n",
       "      <td>...</td>\n",
       "    </tr>\n",
       "    <tr>\n",
       "      <th>718</th>\n",
       "      <td>719</td>\n",
       "      <td>The Gentlemen's Tux Club</td>\n",
       "      <td>-117.155796</td>\n",
       "      <td>32.713740</td>\n",
       "      <td>5.0</td>\n",
       "      <td>664</td>\n",
       "      <td>6.498282</td>\n",
       "      <td>Local</td>\n",
       "    </tr>\n",
       "    <tr>\n",
       "      <th>752</th>\n",
       "      <td>753</td>\n",
       "      <td>Coast Walk Trail</td>\n",
       "      <td>-117.266270</td>\n",
       "      <td>32.848640</td>\n",
       "      <td>5.0</td>\n",
       "      <td>23</td>\n",
       "      <td>3.135494</td>\n",
       "      <td>Local</td>\n",
       "    </tr>\n",
       "    <tr>\n",
       "      <th>783</th>\n",
       "      <td>784</td>\n",
       "      <td>Corey Wyatt - Coastal Agent</td>\n",
       "      <td>-117.134039</td>\n",
       "      <td>32.770834</td>\n",
       "      <td>5.0</td>\n",
       "      <td>14</td>\n",
       "      <td>2.639057</td>\n",
       "      <td>Local</td>\n",
       "    </tr>\n",
       "    <tr>\n",
       "      <th>790</th>\n",
       "      <td>791</td>\n",
       "      <td>Mesa Vista Apartments</td>\n",
       "      <td>-117.155243</td>\n",
       "      <td>32.806044</td>\n",
       "      <td>4.5</td>\n",
       "      <td>36</td>\n",
       "      <td>3.583519</td>\n",
       "      <td>Local</td>\n",
       "    </tr>\n",
       "    <tr>\n",
       "      <th>803</th>\n",
       "      <td>804</td>\n",
       "      <td>Phil's BBQ</td>\n",
       "      <td>-117.215988</td>\n",
       "      <td>32.754779</td>\n",
       "      <td>4.5</td>\n",
       "      <td>92</td>\n",
       "      <td>4.521789</td>\n",
       "      <td>Local</td>\n",
       "    </tr>\n",
       "  </tbody>\n",
       "</table>\n",
       "<p>66 rows × 8 columns</p>\n",
       "</div>"
      ],
      "text/plain": [
       "     Unnamed: 0                         name   longitude   latitude  rating  \\\n",
       "5             5                 Centrum Park -117.138397  32.828037     3.5   \n",
       "9             9             Olive Grove Park -117.171590  32.827435     4.0   \n",
       "12           12            Torrey Hills Park -117.222578  32.917403     4.5   \n",
       "16           16          Torrey Meadows Park -117.156367  32.963991     5.0   \n",
       "17           17               Palisades Park -117.259621  32.802473     4.5   \n",
       "..          ...                          ...         ...        ...     ...   \n",
       "718         719     The Gentlemen's Tux Club -117.155796  32.713740     5.0   \n",
       "752         753             Coast Walk Trail -117.266270  32.848640     5.0   \n",
       "783         784  Corey Wyatt - Coastal Agent -117.134039  32.770834     5.0   \n",
       "790         791        Mesa Vista Apartments -117.155243  32.806044     4.5   \n",
       "803         804                   Phil's BBQ -117.215988  32.754779     4.5   \n",
       "\n",
       "     calls  log_calls park_type  \n",
       "5       59   4.077537     Local  \n",
       "9       39   3.663562     Local  \n",
       "12       9   2.197225     Local  \n",
       "16      11   2.397895     Local  \n",
       "17      61   4.110874     Local  \n",
       "..     ...        ...       ...  \n",
       "718    664   6.498282     Local  \n",
       "752     23   3.135494     Local  \n",
       "783     14   2.639057     Local  \n",
       "790     36   3.583519     Local  \n",
       "803     92   4.521789     Local  \n",
       "\n",
       "[66 rows x 8 columns]"
      ]
     },
     "execution_count": 176,
     "metadata": {},
     "output_type": "execute_result"
    }
   ],
   "source": [
    "pdf2"
   ]
  },
  {
   "cell_type": "markdown",
   "metadata": {},
   "source": [
    "# Data Analysis & Results"
   ]
  },
  {
   "cell_type": "markdown",
   "metadata": {},
   "source": [
    "# Data visualization\n",
    "First, let's plot the police calls to ensure that the data is not evenly distributed"
   ]
  },
  {
   "cell_type": "code",
   "execution_count": 131,
   "metadata": {},
   "outputs": [
    {
     "data": {
      "text/html": [
       "<div style=\"width:100%;\"><div style=\"position:relative;width:100%;height:0;padding-bottom:60%;\"><span style=\"color:#565656\">Make this Notebook Trusted to load map: File -> Trust Notebook</span><iframe src=\"about:blank\" style=\"position:absolute;width:100%;height:100%;left:0;top:0;border:none !important;\" data-html=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 onload=\"this.contentDocument.open();this.contentDocument.write(atob(this.getAttribute('data-html')));this.contentDocument.close();\" allowfullscreen webkitallowfullscreen mozallowfullscreen></iframe></div></div>"
      ],
      "text/plain": [
       "<folium.folium.Map at 0x7f2f3383f210>"
      ]
     },
     "execution_count": 131,
     "metadata": {},
     "output_type": "execute_result"
    }
   ],
   "source": [
    "#Visualize police calls as a heatmap\n",
    "parkLocs = [(lat, long) for long, lat in zip(pdf['longitude'], pdf['latitude'])]\n",
    "xAvg = sum([l[0] for l in parkLocs])/len(parkLocs)\n",
    "yAvg = sum([l[1] for l in parkLocs])/len(parkLocs)\n",
    "m = folium.Map([xAvg, yAvg], tiles='Stamen Toner', zoom_start = 11)\n",
    "\n",
    "loc = 'San Diego Police Calls'\n",
    "title_html = '''\n",
    "             <h3 align=\"center\" style=\"font-size:16px\"><b>{}</b></h3>\n",
    "             '''.format(loc)   \n",
    "m.get_root().html.add_child(folium.Element(title_html))\n",
    "\n",
    "plugins.HeatMap(parkLocs).add_to(m)\n",
    "m\n"
   ]
  },
  {
   "cell_type": "markdown",
   "metadata": {},
   "source": [
    "As seen above, there are pockets of higher police activity, particularly in downtown and on campus, and areas of lower police calls, particularly in areas with low housing density. \n",
    "\n",
    "Now, let's make sure there are parks in all areas"
   ]
  },
  {
   "cell_type": "code",
   "execution_count": 143,
   "metadata": {},
   "outputs": [
    {
     "data": {
      "text/html": [
       "<div style=\"width:100%;\"><div style=\"position:relative;width:100%;height:0;padding-bottom:60%;\"><span style=\"color:#565656\">Make this Notebook Trusted to load map: File -> Trust Notebook</span><iframe src=\"about:blank\" style=\"position:absolute;width:100%;height:100%;left:0;top:0;border:none !important;\" data-html=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 onload=\"this.contentDocument.open();this.contentDocument.write(atob(this.getAttribute('data-html')));this.contentDocument.close();\" allowfullscreen webkitallowfullscreen mozallowfullscreen></iframe></div></div>"
      ],
      "text/plain": [
       "<folium.folium.Map at 0x7f2e3003a150>"
      ]
     },
     "execution_count": 143,
     "metadata": {},
     "output_type": "execute_result"
    }
   ],
   "source": [
    "#Re-visualise the heatmap with some parks and their ratings.\n",
    "m = folium.Map([xAvg, yAvg], tiles='Stamen Toner', zoom_start = 11)\n",
    "\n",
    "loc = 'San Diego Police Calls with Park Ratings'\n",
    "title_html = '''\n",
    "             <h3 align=\"center\" style=\"font-size:16px\"><b>{}</b></h3>\n",
    "             '''.format(loc)   \n",
    "m.get_root().html.add_child(folium.Element(title_html))\n",
    "\n",
    "plugins.HeatMap(parkLocs).add_to(m)\n",
    "\n",
    "for _, row in pdf.sample(n=20, random_state=1).iterrows():\n",
    "    lat = row['latitude']\n",
    "    long = row['longitude']\n",
    "    name = row['name']\n",
    "    rating = row['rating']\n",
    "    folium.Circle([lat, long], radius=500, fill=True).add_child(folium.Popup(name + '\\nRating: '+str(rating))).add_to(m)\n",
    "m"
   ]
  },
  {
   "cell_type": "markdown",
   "metadata": {},
   "source": [
    "We seem to have parks in areas with both high and low police activity. A cursory analysis does not seem to support the hypothesis of low police calls being correlated with high Yelp reviews - one of the lowest reviews comes from the eastern edge of the map on El Cajon Boulevard. Let's create a scatterplot to look into this in more detail. First, let's take a look at the distribution of our data."
   ]
  },
  {
   "cell_type": "code",
   "execution_count": 101,
   "metadata": {},
   "outputs": [
    {
     "data": {
      "text/plain": [
       "<matplotlib.axes._subplots.AxesSubplot at 0x7f2f4a508b90>"
      ]
     },
     "execution_count": 101,
     "metadata": {},
     "output_type": "execute_result"
    },
    {
     "data": {
      "image/png": "[encoded data removed]",
      "text/plain": [
       "<Figure size 432x288 with 1 Axes>"
      ]
     },
     "metadata": {
      "needs_background": "light"
     },
     "output_type": "display_data"
    }
   ],
   "source": [
    "pdf['rating'].plot.hist(bins = 9, title=\"Park rating frequency\")"
   ]
  },
  {
   "cell_type": "code",
   "execution_count": 110,
   "metadata": {},
   "outputs": [
    {
     "data": {
      "text/plain": [
       "<matplotlib.axes._subplots.AxesSubplot at 0x7f2aec645390>"
      ]
     },
     "execution_count": 110,
     "metadata": {},
     "output_type": "execute_result"
    },
    {
     "data": {
      "image/png": "[encoded data removed]",
      "text/plain": [
       "<Figure size 432x288 with 1 Axes>"
      ]
     },
     "metadata": {
      "needs_background": "light"
     },
     "output_type": "display_data"
    }
   ],
   "source": [
    "pdf['calls'].plot.hist(bins = 9, title=\"Police call count frequency\")"
   ]
  },
  {
   "cell_type": "markdown",
   "metadata": {},
   "source": [
    "The park ratings are slightly left skewed, however the police call frequency for each park is very right skewed. We will perform a log-transformation on police calls to help normalize the data."
   ]
  },
  {
   "cell_type": "code",
   "execution_count": 177,
   "metadata": {},
   "outputs": [],
   "source": [
    "pdf['log_calls'] = pdf['calls'].apply(math.log)\n",
    "pdf2['log_calls'] = pdf2['calls'].apply(math.log)"
   ]
  },
  {
   "cell_type": "code",
   "execution_count": 117,
   "metadata": {},
   "outputs": [
    {
     "data": {
      "text/plain": [
       "<matplotlib.axes._subplots.AxesSubplot at 0x7f2b8c157610>"
      ]
     },
     "execution_count": 117,
     "metadata": {},
     "output_type": "execute_result"
    },
    {
     "data": {
      "image/png": "[encoded data removed]",
      "text/plain": [
       "<Figure size 432x288 with 1 Axes>"
      ]
     },
     "metadata": {
      "needs_background": "light"
     },
     "output_type": "display_data"
    }
   ],
   "source": [
    "pdf['log_calls'].plot.hist(bins = 9, title=\"Log police call count frequency\")"
   ]
  },
  {
   "cell_type": "markdown",
   "metadata": {},
   "source": [
    "Now that our police calls are more normalized, let's create a scatterplot to compare the amount of police calls in a park's neighborhood with it's rating. First, let's look at the data for all parks."
   ]
  },
  {
   "cell_type": "code",
   "execution_count": 180,
   "metadata": {},
   "outputs": [
    {
     "data": {
      "text/plain": [
       "Text(0.5, 0.98, 'Transformed police calls vs. park rating for all SD Parks')"
      ]
     },
     "execution_count": 180,
     "metadata": {},
     "output_type": "execute_result"
    },
    {
     "data": {
      "image/png": "[encoded data removed]",
      "text/plain": [
       "<Figure size 360x360 with 1 Axes>"
      ]
     },
     "metadata": {
      "needs_background": "light"
     },
     "output_type": "display_data"
    }
   ],
   "source": [
    "sns.lmplot(x='log_calls',y='rating',data=pdf,fit_reg=True).fig.suptitle(\"Transformed police calls vs. park rating for all SD Parks\") \n"
   ]
  },
  {
   "cell_type": "markdown",
   "metadata": {},
   "source": [
    "The scatterplot does not appear to show any correlation between police calls and park ratings. The trendline is slightly negative, however it does not appear to be significant. Next, let's look at the local parks subset."
   ]
  },
  {
   "cell_type": "code",
   "execution_count": 181,
   "metadata": {},
   "outputs": [
    {
     "data": {
      "text/plain": [
       "Text(0.5, 0.98, 'Transformed police calls vs. park rating for local SD Parks')"
      ]
     },
     "execution_count": 181,
     "metadata": {},
     "output_type": "execute_result"
    },
    {
     "data": {
      "image/png": "[encoded data removed]",
      "text/plain": [
       "<Figure size 360x360 with 1 Axes>"
      ]
     },
     "metadata": {
      "needs_background": "light"
     },
     "output_type": "display_data"
    }
   ],
   "source": [
    "sns.lmplot(x='log_calls',y='rating',data=pdf2,fit_reg=True).fig.suptitle(\"Transformed police calls vs. park rating for local SD Parks\") \n"
   ]
  },
  {
   "cell_type": "markdown",
   "metadata": {},
   "source": [
    "The trendline is absolutely flat, so it appears that for local parks there is no correlation. Let's run Ordinary Least Squares regression to verify our interpretations."
   ]
  },
  {
   "cell_type": "markdown",
   "metadata": {},
   "source": [
    "# Results"
   ]
  },
  {
   "cell_type": "code",
   "execution_count": 142,
   "metadata": {},
   "outputs": [
    {
     "name": "stdout",
     "output_type": "stream",
     "text": [
      "                            OLS Regression Results                            \n",
      "==============================================================================\n",
      "Dep. Variable:              log_calls   R-squared:                       0.003\n",
      "Model:                            OLS   Adj. R-squared:                  0.001\n",
      "Method:                 Least Squares   F-statistic:                     1.794\n",
      "Date:                Wed, 16 Dec 2020   Prob (F-statistic):              0.181\n",
      "Time:                        00:06:10   Log-Likelihood:                -1008.5\n",
      "No. Observations:                 608   AIC:                             2021.\n",
      "Df Residuals:                     606   BIC:                             2030.\n",
      "Df Model:                           1                                         \n",
      "Covariance Type:            nonrobust                                         \n",
      "==============================================================================\n",
      "                 coef    std err          t      P>|t|      [0.025      0.975]\n",
      "------------------------------------------------------------------------------\n",
      "Intercept      4.1273      0.264     15.630      0.000       3.609       4.646\n",
      "rating        -0.0863      0.064     -1.339      0.181      -0.213       0.040\n",
      "==============================================================================\n",
      "Omnibus:                       27.845   Durbin-Watson:                   1.266\n",
      "Prob(Omnibus):                  0.000   Jarque-Bera (JB):               23.530\n",
      "Skew:                           0.406   Prob(JB):                     7.77e-06\n",
      "Kurtosis:                       2.481   Cond. No.                         22.2\n",
      "==============================================================================\n",
      "\n",
      "Warnings:\n",
      "[1] Standard Errors assume that the covariance matrix of the errors is correctly specified.\n"
     ]
    }
   ],
   "source": [
    "#Perform Ordinary Least Squares on the data\n",
    "outcome, predictors = patsy.dmatrices('log_calls ~ rating', pdf)\n",
    "mod = sm.OLS(outcome, predictors)\n",
    "res = mod.fit()\n",
    "print(res.summary())"
   ]
  },
  {
   "cell_type": "markdown",
   "metadata": {},
   "source": [
    "Our adjusted R-squared is 0.001, which is practically no effect. Interestingly, our F-statistic probability is .181, which does not reach significance, but indicates a better-controlled experiment might be able to reach significance. Regardless, it does not appear that police calls in the vicinity of a park negatively influence the park's Yelp rating."
   ]
  },
  {
   "cell_type": "code",
   "execution_count": 179,
   "metadata": {},
   "outputs": [
    {
     "name": "stdout",
     "output_type": "stream",
     "text": [
      "                            OLS Regression Results                            \n",
      "==============================================================================\n",
      "Dep. Variable:              log_calls   R-squared:                       0.000\n",
      "Model:                            OLS   Adj. R-squared:                 -0.016\n",
      "Method:                 Least Squares   F-statistic:                  0.006633\n",
      "Date:                Wed, 16 Dec 2020   Prob (F-statistic):              0.935\n",
      "Time:                        13:56:53   Log-Likelihood:                -105.41\n",
      "No. Observations:                  66   AIC:                             214.8\n",
      "Df Residuals:                      64   BIC:                             219.2\n",
      "Df Model:                           1                                         \n",
      "Covariance Type:            nonrobust                                         \n",
      "==============================================================================\n",
      "                 coef    std err          t      P>|t|      [0.025      0.975]\n",
      "------------------------------------------------------------------------------\n",
      "Intercept      3.3631      1.050      3.202      0.002       1.265       5.461\n",
      "rating         0.0203      0.249      0.081      0.935      -0.477       0.518\n",
      "==============================================================================\n",
      "Omnibus:                        2.882   Durbin-Watson:                   1.590\n",
      "Prob(Omnibus):                  0.237   Jarque-Bera (JB):                2.766\n",
      "Skew:                           0.487   Prob(JB):                        0.251\n",
      "Kurtosis:                       2.760   Cond. No.                         31.3\n",
      "==============================================================================\n",
      "\n",
      "Warnings:\n",
      "[1] Standard Errors assume that the covariance matrix of the errors is correctly specified.\n"
     ]
    }
   ],
   "source": [
    "#Perform Ordinary Least Squares on the data\n",
    "outcome, predictors = patsy.dmatrices('log_calls ~ rating', pdf2)\n",
    "mod = sm.OLS(outcome, predictors)\n",
    "res = mod.fit()\n",
    "print(res.summary())"
   ]
  },
  {
   "cell_type": "markdown",
   "metadata": {},
   "source": [
    "For local parks, we have a R-squared of 0.000. This indeed means there is no correlation between police calls and rating for local parks. Our F-statistic is .935, meaning if our hypothesis had been the opposite, we would be on the brink of significance."
   ]
  },
  {
   "cell_type": "markdown",
   "metadata": {},
   "source": [
    "# Ethics & Privacy"
   ]
  },
  {
   "cell_type": "markdown",
   "metadata": {},
   "source": [
    "The two datasets I used did not have any personally identifiable information. I only used the average rating for each park, meaning I did not deal with any individuals. The parks themselves are ran by public orginizations. The crime data has been pre-cleaned, removing crimes of personal nature and abstracting locations to the block level. There are therefore no privacy concerns.\n",
    "\n",
    "Ethically, the datasets are allowed to be used for this purpose. There is likely bias in the police call records, as some communities feel less comfortable contacting police. Therefore some areas likely have deflated crime statistics, and some have inflated crime statistics, potentially skewing the results. Bias in Yelp reviews unrelated to crime statistics should cancel out over the hundreds of parks. \n",
    "\n",
    "There is a possibility of the analysis being misused. My analysis did not find a relationship between crime rates and Yelp reviews, so it is possible for someone to incorrectly use the analysis as evidence that Yelp reviews are unbiased."
   ]
  },
  {
   "cell_type": "markdown",
   "metadata": {},
   "source": [
    "# Conclusion & Discussion"
   ]
  },
  {
   "cell_type": "markdown",
   "metadata": {},
   "source": [
    "My analysis failed to find any significant influence on a park's Yelp rating based on how many police calls were made in the vicinity of the park for either local parks or parks in general. \n",
    "\n",
    "There are a number of areas that the analysis might have been improved, however. First, the analysis did not take into account the population density of the park's neighborhood. A park in the city's outskirts will naturally have a lower crime rate. Another possible improvement would be refining the way police calls are counted for each park. My analysis arbitrarily decides any police call within half a mile of the park should count towards the park, however more sophisticated methods may provide more insight.\n",
    "\n"
   ]
  }
 ],
 "metadata": {
  "kernelspec": {
   "display_name": "Python 3",
   "language": "python",
   "name": "python3"
  },
  "language_info": {
   "codemirror_mode": {
    "name": "ipython",
    "version": 3
   },
   "file_extension": ".py",
   "mimetype": "text/x-python",
   "name": "python",
   "nbconvert_exporter": "python",
   "pygments_lexer": "ipython3",
   "version": "3.7.6"
  }
 },
 "nbformat": 4,
 "nbformat_minor": 2
}
